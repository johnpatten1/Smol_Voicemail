{
 "cells": [
  {
   "cell_type": "code",
   "execution_count": 2,
   "id": "4fb10e9c",
   "metadata": {},
   "outputs": [],
   "source": [
    "import os\n",
    "import json\n",
    "import random\n",
    "import shutil"
   ]
  },
  {
   "cell_type": "markdown",
   "id": "4853253a",
   "metadata": {},
   "source": [
    "# Location Stems"
   ]
  },
  {
   "cell_type": "code",
   "execution_count": 4,
   "id": "9bf9b09e",
   "metadata": {},
   "outputs": [],
   "source": [
    "neighborhoods = ['Banana Boulevard', 'Coconut Street', 'Stardust Lane', 'Moonrock Mountain',\n",
    "                'Comet Street', 'Glitter Way', 'Treetop Forts', 'Rainbow Hills',\n",
    "                'Popcorn Street', 'Banana Bottoms', 'Volcano Way', 'Moon\\'s Landing', 'Cuckoo Forge',\n",
    "                'Lava Trail', 'Mushroom Row', 'Moonbeam Street',\n",
    "                'Clownfish Court', 'Spider Street', 'Mudbank', 'Gorilla Run', 'Taiga Ridge',\n",
    "                'Banana Peel Way', 'Neon Canyon', 'Wizard\\'s Corner', 'Tornado Way', 'Bongo Lane',\n",
    "                'Gorilla Heights', 'Mud Flats', 'Mischief Street', 'Tuna Landing', 'Comet Isle',\n",
    "                'Skull Island', 'Skull Vista', 'Skull Canyon', 'Bubble Lane', 'Jungle Cape',\n",
    "                'Bongo Corner', 'Moonwalk Way', 'Biscuit Street', 'Lizard Street',\n",
    "                'Wizard Street', 'Circus Lane', 'Jungle Street', 'Deadman Lane', 'Carnival Street',\n",
    "                'Bayou Street', 'Coconut Park West', 'Banana Peel Square', 'Smol Street', 'Canopy Street',\n",
    "                'Mango Place', 'Jungle Drive', 'Spider Lake Drive']"
   ]
  },
  {
   "cell_type": "code",
   "execution_count": 5,
   "id": "b502b115",
   "metadata": {},
   "outputs": [],
   "source": [
    "prisoners = ['Smolville Penitentiary']"
   ]
  },
  {
   "cell_type": "code",
   "execution_count": 6,
   "id": "6df72e36",
   "metadata": {},
   "outputs": [
    {
     "name": "stdout",
     "output_type": "stream",
     "text": [
      "Processing completed.\n"
     ]
    }
   ],
   "source": [
    "# Define the path to the directory containing the JSON files\n",
    "directory_path = '../voicemails/Voicemails/'\n",
    "\n",
    "# Function to process a single JSON file\n",
    "def process_json_file(file_path):\n",
    "    with open(file_path, 'r') as json_file:\n",
    "        data = json.load(json_file)\n",
    "        \n",
    "        # Delete the 'Job' key-value pair\n",
    "        if 'Job' in data:\n",
    "            del data['Job']\n",
    "        \n",
    "        # Choose a random neighborhood\n",
    "        street = random.choice(neighborhoods)\n",
    "        \n",
    "        # Generate a random address number\n",
    "        random_address_number = random.randint(1, 1000)\n",
    "        \n",
    "        # Create the full street address\n",
    "        full_street_address = f\"{random_address_number} {street}\"\n",
    "        \n",
    "        # Update the 'Location' key with the full street address\n",
    "        data['Location'] = full_street_address\n",
    "    \n",
    "    # Write the modified data back to the JSON file\n",
    "    with open(file_path, 'w') as json_file:\n",
    "        json.dump(data, json_file, indent=4)\n",
    "\n",
    "# Loop through JSON files in the directory\n",
    "for filename in os.listdir(directory_path):\n",
    "    if filename.endswith('.json'):\n",
    "        file_path = os.path.join(directory_path, filename)\n",
    "        process_json_file(file_path)\n",
    "\n",
    "print(\"Processing completed.\")"
   ]
  },
  {
   "cell_type": "markdown",
   "id": "4e8b0e85",
   "metadata": {},
   "source": [
    "# Recently Seen Locations"
   ]
  },
  {
   "cell_type": "code",
   "execution_count": 27,
   "id": "bd8692a8",
   "metadata": {},
   "outputs": [],
   "source": [
    "buildings = ['End\\'s Arcade', 'Lava Trails Golf Course', 'Spaceship Ruins', 'Skull Island',\n",
    "             'Commonopoly\\'s Museum of Modern Art', 'Natural History Museum', 'Smol Brains Ballpark',\n",
    "             'Smolville Skyway', 'Vroom Vroom Racetrack', 'Johnny Took Smoking Club',\n",
    "             'Circus', 'Swingtail Tavern', 'Rabbit Tail Speakeasy', 'Bubbletown Mall', 'Smolville Harbor',\n",
    "             'Pink Hat Dive Bar', 'Coconut Diner', 'Moonbeam Hotel', 'Green Pine Lodge', 'Pinky\\'s Casino',\n",
    "             'Smolville Police Station', 'Home', 'Coconut Park West', 'Canopy Steakhouse', 'Mushroom Mall',\n",
    "             '82nd and Coin Laundromat', 'Smolville Community Center', 'Jungle Greenway', 'Starlight Playhouse',\n",
    "             'Dreamland Theater', 'Biscuit Park', 'Coconut Palace Movie Theater', 'Vroom Vroom Mechanic',\n",
    "             'Smolville Post Office', 'Esmerelda\\'s Tarot Shop', 'Smolville Train Station', 'Coconut Coffee Shop',\n",
    "             'Smol Jrs Daycare', 'Smol Pet Shop', 'Smolville University', 'Smolville Metropolitan Library',\n",
    "             'Wizard\\'s Tavern', 'Harvey\\'s Grocery', 'Smolville Station',\n",
    "             'Moon Rock Bowling Alley', 'McSmols', 'Coconut Furniture Depot', 'Spider Lake', 'Flapjack Diner',\n",
    "             'Chuckle\\'s Chicken', 'Smoothie Shop', 'Smolcoin Banking',\n",
    "             'Smol Brains Funeral Home', 'Banana Street Pharmacy', 'Coconut Street Diner', 'Moonbeam Hotel Bar',\n",
    "             'Moonbeam Steakhouse', 'Lizard Street Post Office', 'Smol Bodies Workout Center', 'Smol Fitness',\n",
    "             'Smol Street Courthouse', 'Bayou Street Office Plaza', 'Smolville Fire Station', \n",
    "             'Skull Island Ferry', 'Skull Island Expressway', 'Mudbank Canoe Shop', 'Lunar Crash Memorial',\n",
    "             'Cuckoo Forge', 'Moonrock Mountain Bike Trail', 'Smol Bike Shop', 'Smolville Music Hall',\n",
    "             'Smol Opera House', 'Smolville Auditorium', 'Smolville Stadium', 'Banana Peel Market', \n",
    "             'Coconut Beach', 'Purple Snow Ice Rink', 'Electric Coconut Night Club', 'Banana Bouncers Stadium',\n",
    "             'Stardust Comedy Club', 'Smolville Airport', 'Smol Pet Sounds Recording Studio',\n",
    "             'Max\\'s Animation Studio', 'Duke\\'s Art School', 'Smolville Medical Center', 'Botanical Garden',\n",
    "             'Spider Street Parking Garage', 'Skull Canyon Plaza', 'Skull Vista Landing', \n",
    "             'Canopy Street Skycraper', 'Lizard Street Marina', 'Guinea Co-Op', 'Papaya Condiminiums',\n",
    "             'Santo\\'s Retail Store', 'Travis\\ Travel Agency', 'Preeminent Convention Center', \n",
    "             'Smolville Crisis Center', 'Ray\\'s Photography Studio', 'Space Museum'\n",
    "             'Tokyo Cheesery', 'Rappzula Technology School', 'Lion Ant Zoology Center', 'Smolville Zoo',\n",
    "             'Mouse\\'s Computer Shop', 'Coco\\'s Linen Shop', 'Mischief Street Apartments', 'Tornado Way Warehouses',\n",
    "             'Moonrock Temple', 'Lunar Street Lofts', 'Smolville High School', 'Windswept\\'s Insurance Agency',\n",
    "             'Smol Goat Farm to Table', 'Moonwalk Mall', 'Jungle Street Video', 'Plate Masters',\n",
    "             'X\\'s Nightclub', 'Ghoul\\'s Haunted House', 'Spooky\\'s Halloween Store', 'Shep\\'s Printer Shop',\n",
    "             'T1 Diabetes Clinic', 'Photo Ape Cameras', 'Mulf\\'s Mulch', 'Animen\\'s Art Supplies Store',\n",
    "             'Mooncrash VR Experience', 'Gorilla Heights Penthouse',\n",
    "             'Wyatt\\'s Fashion Showroom', 'Bongo Pictures Film Studio', 'Bridgeworld', 'Mudbank Bathhouse',\n",
    "            'Taiga Ridge Bike Trails', 'Bonnie\\'s Rodeo', 'Smolville Penitentiary', 'Printer\\s Alley', 'Rebel\\s Rest']"
   ]
  },
  {
   "cell_type": "code",
   "execution_count": 28,
   "id": "730d9978",
   "metadata": {},
   "outputs": [
    {
     "name": "stdout",
     "output_type": "stream",
     "text": [
      "recentlySeenLocations.json has been created with your list of buildings.\n"
     ]
    }
   ],
   "source": [
    "# Define the filename for the JSON file\n",
    "file_name = 'recentlySeenLocations.json'\n",
    "\n",
    "# Write the 'buildings' list to a JSON file\n",
    "with open(file_name, 'w') as json_file:\n",
    "    json.dump(buildings, json_file)\n",
    "\n",
    "print(f'{file_name} has been created with your list of buildings.')"
   ]
  },
  {
   "cell_type": "markdown",
   "id": "9be917b3",
   "metadata": {},
   "source": [
    "# Jobs"
   ]
  },
  {
   "cell_type": "code",
   "execution_count": 30,
   "id": "4cb5cb5d",
   "metadata": {},
   "outputs": [],
   "source": [
    "pirates = ['Captain', 'First Mate', 'Navigator',\n",
    "          'Gunner', 'Lookout', 'Cook', 'Powder Monkey',\n",
    "          'Sailmaker', 'Brewer', 'Treasure Hunter', 'Raider',\n",
    "          'Deckhand', 'Parrot Handler', 'Spy', 'Mercenary']"
   ]
  },
  {
   "cell_type": "code",
   "execution_count": 31,
   "id": "bdb0b367",
   "metadata": {},
   "outputs": [],
   "source": [
    "gangsters = ['Smuggler', 'Art Thief', 'Jewel Thief', 'Mob Boss', 'Bouncer', 'Hitman',\n",
    "            'Laundromat Owner', 'Nightclub Owner', 'Loan Shark', 'Bookmaker',\n",
    "            'Arms Dealer', 'Gambler', 'Burglar', 'Safe Cracker', 'Chop Shop Operator',\n",
    "            'Bootlegger', 'Gentleman\\'s Club Owner', 'Getaway Driver', 'Forgery Expert',\n",
    "            'Enforcer', 'Debt Collector', 'Carjacker', 'Consigliere', 'Bodyguard',\n",
    "            'Informant', 'Bank Robber', 'Warehouse Manager', 'Kingpin',\n",
    "            'Fixer', 'Safehouse Operator', 'Con Artist', 'Hacker']"
   ]
  },
  {
   "cell_type": "code",
   "execution_count": null,
   "id": "dbf6898b",
   "metadata": {},
   "outputs": [],
   "source": [
    "regular = ['Lawyer', 'Banker', 'Executive', 'Stockbroker',\n",
    "       'Diplomat', 'Wealth Manager', 'Architect',\n",
    "       'Engineer', 'Financier', 'Consigliere', 'Entrepreneur', 'Retired',\n",
    "       'Comic Book Store', 'Record Shop', 'Craft Brewer', 'Food Truck', 'Tattoo Parlor',\n",
    "       'Video Store', 'Art Gallery', 'Skate Shop', 'Clothing Store', 'Surf Shop', 'Recording Engineer',\n",
    "        'Arcade', 'Prison Guard', 'Developer', '']"
   ]
  },
  {
   "cell_type": "markdown",
   "id": "23ad86f6",
   "metadata": {},
   "source": [
    "### Scratch"
   ]
  },
  {
   "cell_type": "code",
   "execution_count": null,
   "id": "ce91fee3",
   "metadata": {},
   "outputs": [],
   "source": [
    "words = ['Funky', 'Disco', 'Popcorn', 'Neon', 'Oasis', 'Electric',\n",
    "        'Groove', 'Grove', 'Stardust', 'Comet Shard', 'Relic', 'Moon Rock', 'Lunar Gold',\n",
    "        'Lunar', 'Mirage', 'Dreamland', 'Pixel', 'Jive', 'Volcano', 'Moonwalk', 'Bongo', 'Chuckle',\n",
    "        'Dizzy', 'Mushroom', 'Space', 'Kaleidoscope', 'Coconut', 'Banana', 'Jungle', 'Swirl', 'Mischief',\n",
    "        'Magic', 'Lava', 'Bubble', 'Monkeytop', 'Biscuit', 'Gadget', 'Circus', 'Magical', 'Cosmic',\n",
    "        'Monkeyville', 'Sky Biscuit', 'Starstruck', 'Velvet', 'Whiskey', 'Carnival', 'Dizzy', 'Bongo',\n",
    "        'Banana Boat', 'Enchanted', 'Chimera', 'Nirvana', 'Revival', 'Daze', 'House', 'Jazz', 'Funk', 'Bliss',\n",
    "        'Flapjack', 'Boogie', 'Totem Pole', 'Magma', 'Rock', 'Cloud', 'Gorilla', 'Baboon', 'Primate',\n",
    "        'Chimp', 'Lemur', 'Tamarin', 'Gibbon', 'Spider', 'Tail', 'Swingtail', 'Jungle', 'Canopy', 'Tropical',\n",
    "        'Tropic', 'Swing', 'Banana Peel', 'Tuna', 'Fish', 'Flower', 'Nut', 'Berry', 'Pome', 'Fig', 'Ash',\n",
    "        'Barnyard', 'Mud', 'Mudbank', 'Taiga', 'Rabbit', 'Guinea', 'Fowl', 'Antelope', 'Watermelon', 'Lizard',\n",
    "        'Eggs', 'Nutmeg', 'Papaya', 'Tomato', 'Tornado', 'Smokes', 'Mango']\n",
    "\n",
    "areas = ['Dip', 'Park', 'Flats', 'Street', 'Ridge', 'Forest', 'Way', 'Garden', 'Outpost', 'Key', 'City',\n",
    "        'Haven', 'Meadow', 'Springs', 'Corner', 'Quarters', 'Orchard', 'Chase', 'Crossing', 'Basin', 'Retreat',\n",
    "        'Junction', 'Reef', 'Beach', 'Estuary', 'Heights', 'District', 'Vista', 'Haven', 'Central', 'Woods',\n",
    "        'Sanctuary', 'Alley', 'Avenue', 'Bayou', 'Bend', 'Bluff', 'Bridge', 'Brook', 'Burg', 'Bypass', 'Camp', \n",
    "        'Canyon', 'Cape', 'Center', 'Circle', 'Corner', 'Court', 'Creek', 'Crossing', 'Fork', 'Glen', 'Hills',\n",
    "        'Hollow', 'Inlet', 'Isle', 'Knoll', 'Landing', 'Lane', 'Pass', 'Path', 'Pike', 'Point', 'Prairie', \n",
    "        'Rapids', 'Ramp', 'Route', 'Row', 'Valley', 'View']"
   ]
  }
 ],
 "metadata": {
  "kernelspec": {
   "display_name": "Python 3 (ipykernel)",
   "language": "python",
   "name": "python3"
  },
  "language_info": {
   "codemirror_mode": {
    "name": "ipython",
    "version": 3
   },
   "file_extension": ".py",
   "mimetype": "text/x-python",
   "name": "python",
   "nbconvert_exporter": "python",
   "pygments_lexer": "ipython3",
   "version": "3.11.5"
  }
 },
 "nbformat": 4,
 "nbformat_minor": 5
}
