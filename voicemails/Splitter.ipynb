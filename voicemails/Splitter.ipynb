{
 "cells": [
  {
   "cell_type": "code",
   "execution_count": 2,
   "id": "4db98660",
   "metadata": {},
   "outputs": [
    {
     "name": "stdout",
     "output_type": "stream",
     "text": [
      "JSON entries saved as separate files with key name 'Voicemail'.\n"
     ]
    }
   ],
   "source": [
    "import json\n",
    "\n",
    "# Load the voicemail.json file\n",
    "with open('voicemail.json', 'r') as voicemail_file:\n",
    "    voicemail_data = json.load(voicemail_file)\n",
    "\n",
    "# Loop through the entries and save each one as a separate JSON file with key name \"Voicemail\"\n",
    "for key, value in voicemail_data.items():\n",
    "    entry = {\"Voicemail\": value}\n",
    "    entry_filename = f\"Voicemails/{key}.json\"\n",
    "    \n",
    "    with open(entry_filename, 'w') as entry_file:\n",
    "        json.dump(entry, entry_file, indent=4)\n",
    "\n",
    "print(\"JSON entries saved as separate files with key name 'Voicemail'.\")"
   ]
  },
  {
   "cell_type": "code",
   "execution_count": 1,
   "id": "58e40bc1",
   "metadata": {},
   "outputs": [
    {
     "name": "stdout",
     "output_type": "stream",
     "text": [
      "['einstein', 'irradiated', 'see through', 'light-orange', 'pink', 'green', 'purple', 'rainbow', 'black', 'cow', 'blue', 'snowglobe', 'red', 'astronaut', 'mojo jojo', 'reverse', 'golden', 'olive', 'dark-brown', 'fire', 'brown']\n"
     ]
    }
   ],
   "source": [
    "import json\n",
    "import os\n",
    "\n",
    "# Create an empty list called 'body_values'\n",
    "body_values = []\n",
    "\n",
    "# Define the folder path\n",
    "folder_path = 'smol-brains-metadata'\n",
    "\n",
    "# Loop through each JSON file in the folder\n",
    "for filename in os.listdir(folder_path):\n",
    "    if filename.endswith('.json'):\n",
    "        file_path = os.path.join(folder_path, filename)\n",
    "        \n",
    "        # Open and load the JSON file\n",
    "        with open(file_path, 'r') as json_file:\n",
    "            data = json.load(json_file)\n",
    "            \n",
    "            # Find and extract the 'Body' value\n",
    "            for attribute in data.get('attributes', []):\n",
    "                if attribute.get('trait_type') == 'Body':\n",
    "                    body_values.append(attribute.get('value'))\n",
    "\n",
    "# Create a new list with only unique (discrete) values from body_values\n",
    "unique_body_values = list(set(body_values))\n",
    "\n",
    "# Print the unique_body_values list\n",
    "print(unique_body_values)"
   ]
  },
  {
   "cell_type": "code",
   "execution_count": null,
   "id": "1a48c80a",
   "metadata": {},
   "outputs": [],
   "source": []
  }
 ],
 "metadata": {
  "kernelspec": {
   "display_name": "Python 3 (ipykernel)",
   "language": "python",
   "name": "python3"
  },
  "language_info": {
   "codemirror_mode": {
    "name": "ipython",
    "version": 3
   },
   "file_extension": ".py",
   "mimetype": "text/x-python",
   "name": "python",
   "nbconvert_exporter": "python",
   "pygments_lexer": "ipython3",
   "version": "3.11.5"
  }
 },
 "nbformat": 4,
 "nbformat_minor": 5
}
